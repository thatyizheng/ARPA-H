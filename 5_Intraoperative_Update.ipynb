{
 "cells": [
  {
   "cell_type": "code",
   "execution_count": 1,
   "metadata": {},
   "outputs": [],
   "source": [
    "import pandas as pd\n",
    "import os\n",
    "from sksurgerynditracker.nditracker import NDITracker\n",
    "import numpy as np"
   ]
  },
  {
   "cell_type": "code",
   "execution_count": 2,
   "metadata": {},
   "outputs": [],
   "source": [
    "\"\"\"\n",
    "    Initialize the NDI Aurora EM tracker\n",
    "    NOTE: TWO TRACKERS DURING OPERATION\n",
    "    EM1 for Ultrasound Probe\n",
    "    EM2 for Patient Body\n",
    "    tracker.get_frame() will return the tracking results as:\n",
    "    (\n",
    "    [10, 11],\n",
    "    [np.float64(1741808560.8712058), np.float64(1741808560.8712058)],\n",
    "    [np.float64(3238.0), np.float64(3238.0)],\n",
    "    [array([[-7.6868730e-01, -6.3685608e-01,  5.5912140e-02,  8.5530000e+01],\n",
    "            [ 6.3819072e-01, -7.6956820e-01,  8.3178400e-03,  3.6060000e+01],\n",
    "            [ 3.7741740e-02,  4.2082240e-02,  9.9840086e-01, -1.3366000e+02],\n",
    "            [ 0.0000000e+00,  0.0000000e+00,  0.0000000e+00,  1.0000000e+00]]),\n",
    "     array([[ 4.3552278e-01,  8.9886832e-01, -4.6381980e-02,  8.9580000e+01],\n",
    "            [-8.9901672e-01,  4.3692336e-01,  2.5749920e-02, -1.3790000e+01],\n",
    "            [ 4.3410620e-02,  3.0493680e-02,  9.9859158e-01, -1.3192000e+02],\n",
    "            [ 0.0000000e+00,  0.0000000e+00,  0.0000000e+00,  1.0000000e+00]])],\n",
    "    [np.float64(0.060200000000000004), np.float64(0.027200000000000002)]\n",
    "    )\n",
    "\"\"\"\n",
    "SETTINGS_TWO_EMs = {\n",
    "    \"tracker type\": \"aurora\",\n",
    "    \"port\": \"COM3\"\n",
    "}\n",
    "tracker_AURORA = NDITracker(SETTINGS_TWO_EMs)\n",
    "tracker_AURORA.start_tracking()"
   ]
  },
  {
   "cell_type": "code",
   "execution_count": null,
   "metadata": {},
   "outputs": [],
   "source": [
    "\"\"\"\n",
    "    Initialize the NDI Polaris Optical tracker (Track Butterfly Plate)\n",
    "    MAKE SURE you have the Butterfly .rom file and its path\n",
    "\"\"\"\n",
    "SETTINGS_BF = {\n",
    "    \"tracker type\": \"vega\",\n",
    "    \"ip address\": \"169.254.7.250\",\n",
    "    \"port\": 8765,\n",
    "\n",
    "    # Windows Path\n",
    "    \"romfiles\": [\"PATH TO BUTTERFLY PLATE .ROM FILE\"]\n",
    "}\n",
    "tracker_POLARIS = NDITracker(SETTINGS_BF)\n",
    "tracker_POLARIS.start_tracking()"
   ]
  },
  {
   "cell_type": "code",
   "execution_count": 10,
   "metadata": {},
   "outputs": [],
   "source": [
    "EM1_to_US = np.eye(4) # Fixed relationship, Calculated by US_Aurora_Registration.ipynb\n",
    "EM2_to_CT = np.eye(4) # Fixed relationship, Calculated by Polaris_Aurora_Registration.ipynb\n",
    "PO_to_FG = np.eye(4)  # Fixed relationship, Calculated by Polaris_Aurora_Registration.ipynb\n",
    "BF_to_EN = np.eye(4)  # Fixed relationship, between Butterfly and Endoscope Coord. Systems, measured by .stl files\n",
    "\n",
    "while True:\n",
    "    # Read new data from Aurora\n",
    "    EM_handles, EM_timestamps, EM_framenumbers, EM_tracking, EM_quality = tracker_AURORA.get_frame()\n",
    "\n",
    "    # Read new data from Polaris\n",
    "    PO_handles, PO_timestamps, PO_framenumbers, PO_tracking, PO_quality = tracker_POLARIS.get_frame()\n",
    "\n",
    "    # Update EM1 data\n",
    "    FG_to_EM1_updated = EM_tracking[0]\n",
    "\n",
    "    # Update EM2 data\n",
    "    FG_to_EM2_updated = EM_tracking[1]\n",
    "\n",
    "    # Update Ultrasound Pose\n",
    "    FG_to_US_updated = np.dot(FG_to_EM1_updated, EM1_to_US)\n",
    "\n",
    "    # Update CT in Aurora Field Generator\n",
    "    FG_to_CT_updated = np.dot(FG_to_EM2_updated, EM2_to_CT)\n",
    "\n",
    "    # Update CT in Polaris\n",
    "    PO_to_CT_updated = np.dot(PO_to_FG, FG_to_CT_updated)\n",
    "\n",
    "    # Update Endoscope Butterfly in Polaris\n",
    "    PO_to_BF = PO_tracking[0]\n",
    "\n",
    "    # Update Endoscope Coord. System in Polaris\n",
    "    PO_to_EN = np.dot(PO_to_BF, BF_to_EN)"
   ]
  }
 ],
 "metadata": {
  "kernelspec": {
   "display_name": "ndi",
   "language": "python",
   "name": "python3"
  },
  "language_info": {
   "codemirror_mode": {
    "name": "ipython",
    "version": 3
   },
   "file_extension": ".py",
   "mimetype": "text/x-python",
   "name": "python",
   "nbconvert_exporter": "python",
   "pygments_lexer": "ipython3",
   "version": "3.9.21"
  }
 },
 "nbformat": 4,
 "nbformat_minor": 2
}
