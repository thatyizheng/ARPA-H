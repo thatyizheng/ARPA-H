{
 "cells": [
  {
   "cell_type": "code",
   "execution_count": 1,
   "metadata": {},
   "outputs": [],
   "source": [
    "import pandas as pd\n",
    "import os\n",
    "from sksurgerynditracker.nditracker import NDITracker\n",
    "import numpy as np"
   ]
  },
  {
   "cell_type": "code",
   "execution_count": null,
   "metadata": {},
   "outputs": [],
   "source": [
    "\"\"\"\n",
    "    Define the tool tip offset\n",
    "    Using Medtronic Chiken Foot for Phantom Registration\n",
    "    the tool tip offset value of Medtronic Chicken Foot is from Mike github repo\n",
    "    Alternatively, the tool tip offset can be calculated by PIVOTING using NDI ToolBox Utilities\n",
    "\"\"\"\n",
    "CHICKEN_FOOT_TOOLTIP_OFFSET = np.array([-304.5728,-0.3053,-0.1412, 1]) "
   ]
  },
  {
   "cell_type": "code",
   "execution_count": 2,
   "metadata": {},
   "outputs": [],
   "source": [
    "\"\"\"\n",
    "    Initialize the NDI Polaris Optical tracker (Track Chicken Foot Tool)\n",
    "    MAKE SURE you have the Chicken Foot .rom file and its path\n",
    "\"\"\"\n",
    "SETTINGS_CF = {\n",
    "    \"tracker type\": \"vega\",\n",
    "    \"ip address\": \"169.254.7.250\",\n",
    "    \"port\": 8765,\n",
    "    # Windows Path\n",
    "    \"romfiles\": [\"PATH TO CHICKEN FOOT .ROM FILE PATH\"]\n",
    "}\n",
    "tracker_CF = NDITracker(SETTINGS_CF)\n",
    "tracker_CF.start_tracking()"
   ]
  },
  {
   "cell_type": "code",
   "execution_count": 3,
   "metadata": {},
   "outputs": [],
   "source": [
    "def get_tooltip_data(tracker, tool_tip_offset):\n",
    "    port_handles, timestamps, framenumbers, tracking, quality = tracker.get_frame()\n",
    "    tool_tip = np.dot(tracking[0], tool_tip_offset)\n",
    "    x_pos = tool_tip[0]\n",
    "    y_pos = tool_tip[1]\n",
    "    z_pos = tool_tip[2]\n",
    "    return x_pos, y_pos, z_pos"
   ]
  },
  {
   "cell_type": "code",
   "execution_count": 4,
   "metadata": {},
   "outputs": [],
   "source": [
    "\"\"\"\n",
    "    Load the Markers Locations on Phantom\n",
    "    The locations here are in CT's coordinate system\n",
    "    The locations can be obtained by loading the CT's .stl model into SLICER or directly getting from .stl model in Solidworks or similar software\n",
    "\"\"\"\n",
    "markers_fcsv_file = 'YOUR PHANTOM MARKER LOCATIONS.fcsv'\n",
    "# Windows Path\n",
    "markers_CT = pd.read_csv(\"PATH TO YOUR PHANTOM MARKER LOCATIONS\" + \"\\\\\"  + markers_fcsv_file, comment='#', header=None)"
   ]
  },
  {
   "cell_type": "code",
   "execution_count": null,
   "metadata": {},
   "outputs": [],
   "source": [
    "\"\"\"\"\n",
    "    markers_PO saves the Marker Locations in Polaris coord system\n",
    "    Use the chicken foot tool\n",
    "    Point the tool tip at each marker and hit ENTER to collect the positions\n",
    "\"\"\"\n",
    "markers_PO = []\n",
    "i = 0\n",
    "while i < len(markers_CT):\n",
    "    user_input = input(\"Press Enter to Collect Points：\")\n",
    "        \n",
    "    if user_input.lower() == 'Exit':\n",
    "        break\n",
    "\n",
    "    if user_input == '':  # 如果按回车键\n",
    "        x, y, z = get_tooltip_data(tracker=tracker_CF, tool_tip_offset=CHICKEN_FOOT_TOOLTIP_OFFSET)  # 获取当前Polaris的位置\n",
    "        if np.isnan(x) or np.isnan(y) or np.isnan(z):\n",
    "            print(\"Collect again\")\n",
    "        else:\n",
    "            markers_PO.append([x, y, z])  # 保存采集的数据       \n",
    "            i = i + 1\n",
    "            print(f\"Collected Point: {i}\")\n",
    "            print(f\"Position: {x, y, z}\")\n",
    "            "
   ]
  },
  {
   "cell_type": "code",
   "execution_count": 6,
   "metadata": {},
   "outputs": [],
   "source": [
    "from scipy.spatial.transform import Rotation\n",
    "def compute_rigid_transform(P_PO, P_CT):\n",
    "    \"\"\"\n",
    "        P_CT: ndarray (N,3), the markers 3D location in {CT}\n",
    "        P_PO: ndarray (N,3), the markers 3D location in {PO}\n",
    "        :return: R (3x3 rotation matrix), T (3x1 translation vector)\n",
    "    \"\"\"\n",
    "    # 计算两个点集的质心\n",
    "    centroid_CT = np.mean(P_CT, axis=0)\n",
    "    centroid_PO = np.mean(P_PO, axis=0)\n",
    "\n",
    "    # 去中心化（中心化点集）\n",
    "    P_CT_centered = P_CT - centroid_CT\n",
    "    P_PO_centered = P_PO - centroid_PO\n",
    "\n",
    "    # 计算协方差矩阵 H\n",
    "    H = P_PO_centered @ P_CT_centered.T\n",
    "\n",
    "    # 进行 SVD 分解\n",
    "    U, _, Vt = np.linalg.svd(H)\n",
    "    \n",
    "    # 计算旋转矩阵 R\n",
    "    R = Vt.T @ U.T\n",
    "\n",
    "    # 处理可能的反射问题（保证 R 是正交矩阵，det(R) = 1）\n",
    "    if np.linalg.det(R) < 0:\n",
    "        Vt[-1, :] *= -1\n",
    "        R = Vt.T @ U.T\n",
    "\n",
    "    # 计算平移向量 T\n",
    "    T = centroid_CT - R @ centroid_PO\n",
    "\n",
    "    return R, T"
   ]
  },
  {
   "cell_type": "code",
   "execution_count": null,
   "metadata": {},
   "outputs": [],
   "source": [
    "P_CT = []\n",
    "markers_CT = np.array(markers_CT)\n",
    "for i in range(len(markers_CT)):\n",
    "    P_CT.append(markers_CT[i][1:4])\n",
    "P_CT = np.array(P_CT, dtype=np.float64)\n",
    "# print(P_CT)"
   ]
  },
  {
   "cell_type": "code",
   "execution_count": null,
   "metadata": {},
   "outputs": [],
   "source": [
    "P_PO = np.array(markers_PO, dtype=np.float64)\n",
    "# print(P_PO)"
   ]
  },
  {
   "cell_type": "code",
   "execution_count": 9,
   "metadata": {},
   "outputs": [],
   "source": [
    "\"\"\"\n",
    "    Calculate the Rotation and Translation\n",
    "\"\"\"\n",
    "R, T = compute_rigid_transform(P_PO, P_CT)"
   ]
  },
  {
   "cell_type": "code",
   "execution_count": 10,
   "metadata": {},
   "outputs": [],
   "source": [
    "def create_transformation_matrix(R, T):\n",
    "    \"\"\"\n",
    "        Combine the Rotation and Translation into 4 x 4 Transformation Matrix\n",
    "    \"\"\"\n",
    "    transformation_matrix = np.eye(4)  # 创建一个 4x4 单位矩阵\n",
    "    transformation_matrix[:3, :3] = R  # 设置旋转部分\n",
    "    transformation_matrix[:3, 3] = T.flatten()  # 设置平移部分\n",
    "    return transformation_matrix"
   ]
  },
  {
   "cell_type": "code",
   "execution_count": null,
   "metadata": {},
   "outputs": [],
   "source": [
    "\"\"\"\n",
    "    Here we have the transformation,\n",
    "    Express {CT} in {PO}\n",
    "    By applying the Transformation, we can have the CT model/Phantom in Polaris Coordinate System\n",
    "\"\"\"\n",
    "PO_to_CT_calibration = create_transformation_matrix(R, T)\n",
    "print(PO_to_CT_calibration)\n",
    "\n",
    "# Save the transformation matrix PO_to_CT_calibration\n",
    "np.save(\"PO_to_CT_calibration.npy\", PO_to_CT_calibration)"
   ]
  }
 ],
 "metadata": {
  "kernelspec": {
   "display_name": "ndi",
   "language": "python",
   "name": "python3"
  },
  "language_info": {
   "codemirror_mode": {
    "name": "ipython",
    "version": 3
   },
   "file_extension": ".py",
   "mimetype": "text/x-python",
   "name": "python",
   "nbconvert_exporter": "python",
   "pygments_lexer": "ipython3",
   "version": "3.9.21"
  }
 },
 "nbformat": 4,
 "nbformat_minor": 2
}
