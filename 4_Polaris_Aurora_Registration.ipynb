{
 "cells": [
  {
   "cell_type": "code",
   "execution_count": 1,
   "metadata": {},
   "outputs": [],
   "source": [
    "import pandas as pd\n",
    "import os\n",
    "from sksurgerynditracker.nditracker import NDITracker\n",
    "import numpy as np"
   ]
  },
  {
   "cell_type": "code",
   "execution_count": null,
   "metadata": {},
   "outputs": [],
   "source": [
    "\"\"\"\n",
    "    Initialize the NDI Polaris Optical tracker (Track the Calibration Plate)\n",
    "    MAKE SURE you have the Chicken Foot .rom file and its path\n",
    "\"\"\"\n",
    "SETTINGS_CP = {\n",
    "    \"tracker type\": \"vega\",\n",
    "    \"ip address\": \"169.254.7.250\",\n",
    "    \"port\": 8765,\n",
    "\n",
    "    # Windows Path\n",
    "    \"romfiles\": [\"CALIBRATION PLATE .ROM FILE PATH\"]\n",
    "}\n",
    "tracker_CP = NDITracker(SETTINGS_CP)\n",
    "tracker_CP.start_tracking()"
   ]
  },
  {
   "cell_type": "code",
   "execution_count": null,
   "metadata": {},
   "outputs": [],
   "source": [
    "\"\"\"\n",
    "    Initialize the NDI Aurora EM tracker (Attached to Patient Body)\n",
    "\"\"\"\n",
    "SETTINGS_BODY = {\n",
    "    \"tracker type\": \"aurora\",\n",
    "    \"port\": \"COM3\"\n",
    "}\n",
    "tracker_BODY = NDITracker(SETTINGS_BODY)\n",
    "tracker_BODY.start_tracking()"
   ]
  },
  {
   "cell_type": "code",
   "execution_count": null,
   "metadata": {},
   "outputs": [],
   "source": [
    "# {PO} to {CP}, tracked by Polaris\n",
    "_, _, _, PO_to_CP_calibration, _ = tracker_CP.get_frame()"
   ]
  },
  {
   "cell_type": "code",
   "execution_count": null,
   "metadata": {},
   "outputs": [],
   "source": [
    "# {CP} to {PO}\n",
    "CP_to_PO_calibration = np.linalg.inv(PO_to_CP_calibration)"
   ]
  },
  {
   "cell_type": "code",
   "execution_count": null,
   "metadata": {},
   "outputs": [],
   "source": [
    "# {FG} to {CP}, calculated by Calibration_Plate_Aurora_Registration.ipynb\n",
    "FG_to_CP_calibration = np.eye(4)"
   ]
  },
  {
   "cell_type": "code",
   "execution_count": null,
   "metadata": {},
   "outputs": [],
   "source": [
    "# {FG} to {PO}\n",
    "FG_to_PO = np.dot(FG_to_CP_calibration, CP_to_PO_calibration)"
   ]
  },
  {
   "cell_type": "code",
   "execution_count": null,
   "metadata": {},
   "outputs": [],
   "source": [
    "# {PO} to {FG}\n",
    "PO_to_FG = np.linalg.inv(FG_to_PO)"
   ]
  },
  {
   "cell_type": "code",
   "execution_count": null,
   "metadata": {},
   "outputs": [],
   "source": [
    "# {FG} to {EM2} or Patient Body\n",
    "_, _, _, FG_to_EM2_calibration, _ = tracker_BODY.get_frame() "
   ]
  },
  {
   "cell_type": "code",
   "execution_count": null,
   "metadata": {},
   "outputs": [],
   "source": [
    "# {EM2} or Patient Body to {FG}\n",
    "EM2_to_FG_calibration = np.linalg.inv(FG_to_EM2_calibration)\n"
   ]
  },
  {
   "cell_type": "code",
   "execution_count": null,
   "metadata": {},
   "outputs": [],
   "source": [
    "# {EM2} or Patient Body to {PO}\n",
    "EM2_to_PO_calibration = np.dot(EM2_to_FG_calibration, FG_to_PO)"
   ]
  },
  {
   "cell_type": "code",
   "execution_count": null,
   "metadata": {},
   "outputs": [],
   "source": [
    "# {PO} to {CT}, calculated by CT_Polaris_Registration.ipynb\n",
    "PO_to_CT_calibration = np.eye(4)"
   ]
  },
  {
   "cell_type": "code",
   "execution_count": null,
   "metadata": {},
   "outputs": [],
   "source": [
    "# {EM2} or Patient Body to {CT}, fixed relationship\n",
    "EM2_to_CT = np.dot(EM2_to_PO_calibration, PO_to_CT_calibration)"
   ]
  }
 ],
 "metadata": {
  "kernelspec": {
   "display_name": "ndi",
   "language": "python",
   "name": "python3"
  },
  "language_info": {
   "codemirror_mode": {
    "name": "ipython",
    "version": 3
   },
   "file_extension": ".py",
   "mimetype": "text/x-python",
   "name": "python",
   "nbconvert_exporter": "python",
   "pygments_lexer": "ipython3",
   "version": "3.9.21"
  }
 },
 "nbformat": 4,
 "nbformat_minor": 2
}
