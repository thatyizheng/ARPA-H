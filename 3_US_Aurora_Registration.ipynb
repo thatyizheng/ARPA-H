{
 "cells": [
  {
   "cell_type": "code",
   "execution_count": 1,
   "metadata": {},
   "outputs": [],
   "source": [
    "import pandas as pd\n",
    "import os\n",
    "from sksurgerynditracker.nditracker import NDITracker\n",
    "import numpy as np"
   ]
  },
  {
   "cell_type": "code",
   "execution_count": null,
   "metadata": {},
   "outputs": [],
   "source": [
    "\"\"\"\n",
    "    Initialize the NDI Aurora EM tracker (Attached to Ultrasound Probe)\n",
    "\"\"\"\n",
    "SETTINGS_US = {\n",
    "    \"tracker type\": \"aurora\",\n",
    "    \"port\": \"COM3\"\n",
    "}\n",
    "tracker_US = NDITracker(SETTINGS_US)\n",
    "tracker_US.start_tracking()"
   ]
  },
  {
   "cell_type": "code",
   "execution_count": null,
   "metadata": {},
   "outputs": [],
   "source": [
    "# {CP} to {US}, Defined and obtained by Calibration Plate and Ultrasound Probe .stl files\n",
    "CP_to_US_calibration = np.eye(4)"
   ]
  },
  {
   "cell_type": "code",
   "execution_count": null,
   "metadata": {},
   "outputs": [],
   "source": [
    "# {FG} to {EM1}, EM1 is tracked by Aurora Field Generator\n",
    "_, _, _, FG_to_EM1_calibration, _ = tracker_US.get_frame()"
   ]
  },
  {
   "cell_type": "code",
   "execution_count": null,
   "metadata": {},
   "outputs": [],
   "source": [
    "# {EM1} to {FG}\n",
    "EM1_to_FG_calibration = np.linalg.inv(FG_to_EM1_calibration)"
   ]
  },
  {
   "cell_type": "code",
   "execution_count": null,
   "metadata": {},
   "outputs": [],
   "source": [
    "# {FG} to {CP}, calculated by Calibration_Plate_Registration.ipynb\n",
    "FG_to_CP_calibration = np.eye(4)"
   ]
  },
  {
   "cell_type": "code",
   "execution_count": 2,
   "metadata": {},
   "outputs": [],
   "source": [
    "# {FG} to {US}\n",
    "FG_to_US_calibration = np.dot(FG_to_CP_calibration, CP_to_US_calibration)"
   ]
  },
  {
   "cell_type": "code",
   "execution_count": null,
   "metadata": {},
   "outputs": [],
   "source": [
    "# {EM1} to {US}\n",
    "EM1_to_US = np.dot(EM1_to_FG_calibration, FG_to_US_calibration)"
   ]
  }
 ],
 "metadata": {
  "kernelspec": {
   "display_name": "ndi",
   "language": "python",
   "name": "python3"
  },
  "language_info": {
   "codemirror_mode": {
    "name": "ipython",
    "version": 3
   },
   "file_extension": ".py",
   "mimetype": "text/x-python",
   "name": "python",
   "nbconvert_exporter": "python",
   "pygments_lexer": "ipython3",
   "version": "3.9.21"
  }
 },
 "nbformat": 4,
 "nbformat_minor": 2
}
