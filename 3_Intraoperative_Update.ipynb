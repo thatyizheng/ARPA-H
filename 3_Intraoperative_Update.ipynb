{
 "cells": [
  {
   "cell_type": "code",
   "execution_count": 1,
   "metadata": {},
   "outputs": [],
   "source": [
    "import pandas as pd\n",
    "import os\n",
    "from sksurgerynditracker.nditracker import NDITracker\n",
    "import numpy as np"
   ]
  },
  {
   "cell_type": "code",
   "execution_count": 2,
   "metadata": {},
   "outputs": [],
   "source": [
    "\"\"\"\n",
    "   Initialize the NDI Aurora EM tracker\n",
    "\"\"\"\n",
    "SETTINGS_EM = {\n",
    "    \"tracker type\": \"aurora\",\n",
    "    \"port\": \"COM3\"\n",
    "}\n",
    "tracker_AURORA = NDITracker(SETTINGS_EM)\n",
    "tracker_AURORA.start_tracking()"
   ]
  },
  {
   "cell_type": "code",
   "execution_count": null,
   "metadata": {},
   "outputs": [],
   "source": [
    "\"\"\"\n",
    "    Initialize the NDI Polaris Optical tracker (Track Butterfly Plate)\n",
    "    MAKE SURE you have the Butterfly .rom file and its path\n",
    "\"\"\"\n",
    "SETTINGS_BF = {\n",
    "    \"tracker type\": \"vega\",\n",
    "    \"ip address\": \"169.254.7.250\",\n",
    "    \"port\": 8765,\n",
    "\n",
    "    # Windows Path\n",
    "    \"romfiles\": [\"PATH TO BUTTERFLY PLATE .ROM FILE\"]\n",
    "}\n",
    "tracker_POLARIS = NDITracker(SETTINGS_BF)\n",
    "tracker_POLARIS.start_tracking()"
   ]
  },
  {
   "cell_type": "code",
   "execution_count": null,
   "metadata": {},
   "outputs": [],
   "source": [
    "BF_to_EN = np.eye(4)  # Fixed relationship, between Butterfly and Endoscope Coord. Systems, Using Yuan's Old Settings\n",
    "EM_to_PI = np.eye(4)  # Fixed relationship, between EM Coil and Pin Coord. System.\n",
    "\n",
    "PO_to_CT_calibration = np.load(\"PO_to_CT_calibration.npy\")\n",
    "\n",
    "CT_to_PO_calibration = np.linalg.inv(PO_to_CT_calibration)\n",
    "\n",
    "FG_to_CT_calibration = np.load(\"FG_to_CT_calibration.npy\")\n",
    "\n",
    "CT_to_FG_calibration = np.linalg.inv(FG_to_CT_calibration)\n",
    "\n",
    "PO_to_FG = np.dot(PO_to_CT_calibration, CT_to_FG_calibration)"
   ]
  },
  {
   "cell_type": "code",
   "execution_count": 10,
   "metadata": {},
   "outputs": [],
   "source": [
    "while True:\n",
    "    # Read new data from Aurora\n",
    "    EM_handles, EM_timestamps, EM_framenumbers, EM_tracking, EM_quality = tracker_AURORA.get_frame()\n",
    "\n",
    "    # Read new data from Polaris\n",
    "    PO_handles, PO_timestamps, PO_framenumbers, PO_tracking, PO_quality = tracker_POLARIS.get_frame()\n",
    "\n",
    "    # Update EM data\n",
    "    FG_to_EM_updated = EM_tracking[0]\n",
    "\n",
    "    # Update Endoscope Butterfly in Polaris\n",
    "    PO_to_BF = PO_tracking[0]\n",
    "\n",
    "    # Update Endoscope Coord. System in Polaris\n",
    "    PO_to_EN = np.dot(PO_to_BF, BF_to_EN)\n",
    "\n",
    "    # Update Endoscope in Phantom/CT Coord. System\n",
    "    CT_to_EN = np.dot(CT_to_PO_calibration, PO_to_EN)\n",
    "\n",
    "    # Update PIN in Phantom/CT Coord. System\n",
    "    FG_to_PI = np.dot(FG_to_EM_updated, EM_to_PI)\n",
    "    CT_to_PI = np.dot(CT_to_FG_calibration, FG_to_PI)"
   ]
  }
 ],
 "metadata": {
  "kernelspec": {
   "display_name": "ndi",
   "language": "python",
   "name": "python3"
  },
  "language_info": {
   "codemirror_mode": {
    "name": "ipython",
    "version": 3
   },
   "file_extension": ".py",
   "mimetype": "text/x-python",
   "name": "python",
   "nbconvert_exporter": "python",
   "pygments_lexer": "ipython3",
   "version": "3.9.21"
  }
 },
 "nbformat": 4,
 "nbformat_minor": 2
}
