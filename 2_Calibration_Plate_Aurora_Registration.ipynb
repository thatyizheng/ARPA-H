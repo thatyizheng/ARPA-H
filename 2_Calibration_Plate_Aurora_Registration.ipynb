{
 "cells": [
  {
   "cell_type": "code",
   "execution_count": 1,
   "metadata": {},
   "outputs": [],
   "source": [
    "import pandas as pd\n",
    "import os\n",
    "from sksurgerynditracker.nditracker import NDITracker\n",
    "import numpy as np"
   ]
  },
  {
   "cell_type": "code",
   "execution_count": null,
   "metadata": {},
   "outputs": [],
   "source": [
    "\"\"\"\n",
    "    Define the tool tip offset\n",
    "    Using the Clear Pen for Calibration Plate Registration\n",
    "    the tool tip offset value of Medtronic Chicken Foot is from Mike github repo\n",
    "    Alternatively, the tool tip offset can be calculated by PIVOTING using NDI ToolBox Utilities\n",
    "\"\"\"\n",
    "CLEAR_PEN_TOOLTIP_OFFSET = np.array([-1.62, 2.58, 17.80, 1]) "
   ]
  },
  {
   "cell_type": "code",
   "execution_count": 2,
   "metadata": {},
   "outputs": [],
   "source": [
    "\"\"\"\n",
    "    Initialize the NDI Aurora EM tracker (Attached to Clear Pen)\n",
    "\"\"\"\n",
    "SETTINGS_PEN = {\n",
    "    \"tracker type\": \"aurora\",\n",
    "    \"port\": \"COM3\"\n",
    "}\n",
    "tracker_pen = NDITracker(SETTINGS_PEN)\n",
    "tracker_pen.start_tracking()"
   ]
  },
  {
   "cell_type": "code",
   "execution_count": 3,
   "metadata": {},
   "outputs": [],
   "source": [
    "def get_tooltip_data(tracker, tool_tip_offset):\n",
    "    port_handles, timestamps, framenumbers, tracking, quality = tracker.get_frame()\n",
    "    tool_tip = np.dot(tracking[0], tool_tip_offset)\n",
    "    x_pos = tool_tip[0]\n",
    "    y_pos = tool_tip[1]\n",
    "    z_pos = tool_tip[2]\n",
    "    return x_pos, y_pos, z_pos"
   ]
  },
  {
   "cell_type": "code",
   "execution_count": 4,
   "metadata": {},
   "outputs": [],
   "source": [
    "\"\"\"\n",
    "    Load the Markers Locations on Calibration Plate\n",
    "    The locations here are in Calibration Plate's coordinate system {CP}\n",
    "    The locations can be obtained by loading the Plate's .stl model into SLICER and place markers on predefined locations,\n",
    "    or directly getting from .stl model in Solidworks or similar software\n",
    "\"\"\"\n",
    "markers_fcsv_file = 'MARKERS.fcsv'\n",
    "markers_CP = pd.read_csv(\"C:\\\\Users\\\\f007wsq\\\\Desktop\\\\Calibration Protocol - Aurora\\\\Calibration Protocol\" + \"\\\\\"  + markers_fcsv_file, comment='#', header=None)"
   ]
  },
  {
   "cell_type": "code",
   "execution_count": null,
   "metadata": {},
   "outputs": [],
   "source": [
    "\"\"\"\"\n",
    "    markers_FG saves the Marker Locations in Aurora Field Generator's coord system {FG}\n",
    "    Use the Clear Pen Tool\n",
    "    Point the tool tip at each marker and hit ENTER to collect the positions\n",
    "\"\"\"\n",
    "\n",
    "markers_FG = []\n",
    "i = 0\n",
    "while i < len(markers_CP):\n",
    "    user_input = input(\"Press Enter to Collect Points：\")\n",
    "        \n",
    "    if user_input.lower() == 'Exit':\n",
    "        break\n",
    "\n",
    "    if user_input == '':  # 如果按回车键\n",
    "        x, y, z = get_tooltip_data(tracker=tracker_pen, tool_tip_offset=CLEAR_PEN_TOOLTIP_OFFSET)  # 获取当前点在FG中的位置\n",
    "        if np.isnan(x) or np.isnan(y) or np.isnan(z):\n",
    "            print(\"Collect again\")\n",
    "        else:\n",
    "            markers_FG.append([x, y, z])  # 保存采集的数据       \n",
    "            i = i + 1\n",
    "            print(f\"Collected Point: {i}\")\n",
    "            print(f\"Position: {x, y, z}\")\n",
    "            "
   ]
  },
  {
   "cell_type": "code",
   "execution_count": 6,
   "metadata": {},
   "outputs": [],
   "source": [
    "from scipy.spatial.transform import Rotation\n",
    "def compute_rigid_transform(P_CP, P_FG):\n",
    "    \"\"\"\n",
    "        Calculate the rigid transformation from Calibration Plate coord system {CP} to Aurora Field Generator coord system {FG}, in other word,\n",
    "        Express {CP} in {FG},\n",
    "        P_CP: ndarray (N,3), the markers 3D location in {CP}\n",
    "        P_FG: ndarray (N,3), the markers 3D location in {FG}\n",
    "\n",
    "        :return: R (3x3 rotation matrix), T (3x1 translation vector)\n",
    "    \"\"\"\n",
    "    # 计算两个点集的质心\n",
    "    centroid_CP = np.mean(P_CP, axis=0)\n",
    "    centroid_FG = np.mean(P_FG, axis=0)\n",
    "\n",
    "    # 去中心化（中心化点集）\n",
    "    P_CP_centered = P_CP - centroid_CP\n",
    "    P_FG_centered = P_FG - centroid_FG\n",
    "\n",
    "    # 计算协方差矩阵 H\n",
    "    H = P_CP_centered.T @ P_FG_centered\n",
    "\n",
    "    # 进行 SVD 分解\n",
    "    U, _, Vt = np.linalg.svd(H)\n",
    "    \n",
    "    # 计算旋转矩阵 R\n",
    "    R = Vt.T @ U.T\n",
    "\n",
    "    # 处理可能的反射问题（保证 R 是正交矩阵，det(R) = 1）\n",
    "    if np.linalg.det(R) < 0:\n",
    "        Vt[-1, :] *= -1\n",
    "        R = Vt.T @ U.T\n",
    "\n",
    "    # 计算平移向量 T\n",
    "    T = centroid_FG - R @ centroid_CP\n",
    "\n",
    "    return R, T"
   ]
  },
  {
   "cell_type": "code",
   "execution_count": null,
   "metadata": {},
   "outputs": [],
   "source": [
    "P_CP = []\n",
    "markers_CP = np.array(markers_CP)\n",
    "for i in range(len(markers_CP)):\n",
    "    P_CP.append(markers_CP[i][1:4])\n",
    "P_CP = np.array(P_CP, dtype=np.float64)\n",
    "print(P_CP)   "
   ]
  },
  {
   "cell_type": "code",
   "execution_count": null,
   "metadata": {},
   "outputs": [],
   "source": [
    "P_FG = np.array(markers_FG, dtype=np.float64)\n",
    "print(P_FG)"
   ]
  },
  {
   "cell_type": "code",
   "execution_count": 9,
   "metadata": {},
   "outputs": [],
   "source": [
    "\"\"\"\n",
    "    Calculate the Rotation and Translation\n",
    "\"\"\"\n",
    "R, T = compute_rigid_transform(P_CP, P_FG)"
   ]
  },
  {
   "cell_type": "code",
   "execution_count": 11,
   "metadata": {},
   "outputs": [],
   "source": [
    "def create_transformation_matrix(R, T):\n",
    "    \"\"\"\n",
    "        Combine the Rotation and Translation into 4 x 4 Transformation Matrix\n",
    "    \"\"\"\n",
    "    transformation_matrix = np.eye(4)  # 创建一个 4x4 单位矩阵\n",
    "    transformation_matrix[:3, :3] = R  # 设置旋转部分\n",
    "    transformation_matrix[:3, 3] = T.flatten()  # 设置平移部分\n",
    "    return transformation_matrix"
   ]
  },
  {
   "cell_type": "code",
   "execution_count": null,
   "metadata": {},
   "outputs": [],
   "source": [
    "\"\"\"\n",
    "    Here we have the transformation,\n",
    "    Express {CP} in {FG} or FG to CP\n",
    "    By applying the Transformation, we can have the Calibration Plate in Aurora Field Generator Coordinate System\n",
    "\"\"\"\n",
    "FG_to_CP_calibration = create_transformation_matrix(R, T)\n",
    "print(FG_to_CP_calibration)\n",
    "\n",
    "# Save the Transformation Matrix FG_to_CP_calibration\n",
    "np.save(\"FG_to_CP_calibration.npy\", FG_to_CP_calibration)"
   ]
  }
 ],
 "metadata": {
  "kernelspec": {
   "display_name": "ndi",
   "language": "python",
   "name": "python3"
  },
  "language_info": {
   "codemirror_mode": {
    "name": "ipython",
    "version": 3
   },
   "file_extension": ".py",
   "mimetype": "text/x-python",
   "name": "python",
   "nbconvert_exporter": "python",
   "pygments_lexer": "ipython3",
   "version": "3.9.21"
  }
 },
 "nbformat": 4,
 "nbformat_minor": 2
}
